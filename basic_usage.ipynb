{
 "cells": [
  {
   "cell_type": "markdown",
   "metadata": {},
   "source": [
    "# Basic Usage"
   ]
  },
  {
   "cell_type": "code",
   "execution_count": 5,
   "metadata": {},
   "outputs": [],
   "source": [
    "# Commom imports\n",
    "from tqdm import tqdm"
   ]
  },
  {
   "cell_type": "markdown",
   "metadata": {},
   "source": [
    "## Dataset"
   ]
  },
  {
   "cell_type": "code",
   "execution_count": 1,
   "metadata": {},
   "outputs": [
    {
     "name": "stderr",
     "output_type": "stream",
     "text": [
      "Loading queries: 100%|██████████| 2771/2771 [00:00<?, ?it/s]\n",
      "Loading documents: 100%|██████████| 277168/277168 [00:00<00:00, 1374642.43it/s]\n",
      "Loading qrels: 100%|██████████| 2845/2845 [00:00<00:00, 1416019.33it/s]\n"
     ]
    }
   ],
   "source": [
    "# load data, tokenize and split\n",
    "from src.datasets import MSMarcoDataset\n",
    "\n",
    "dataset = MSMarcoDataset('data/subset_msmarco_train_0')\n",
    "dataset.load_data('subset_msmarco_train_0.01_99.pkl')\n",
    "dataset.split_data()"
   ]
  },
  {
   "cell_type": "markdown",
   "metadata": {},
   "source": [
    "## Metrics"
   ]
  },
  {
   "cell_type": "code",
   "execution_count": 2,
   "metadata": {},
   "outputs": [],
   "source": [
    "from src.metrics import (\n",
    "    mrr_score,\n",
    "    map_score,\n",
    "    mr_score,\n",
    "    mf1_score,\n",
    "    mndcg_score,\n",
    ")\n",
    "\n",
    "def print_metrics(dataset: MSMarcoDataset, score_docs: list[tuple[str, float]]):\n",
    "    print(f\"MRR: {mrr_score(score_docs, dataset.qrels):.4f}\")\n",
    "    print(f\"MAP: {map_score(score_docs, dataset.qrels):.4f}\")\n",
    "    print(f\"MR: {mr_score(score_docs, dataset.qrels):.4f}\")\n",
    "    print(f\"MF1: {mf1_score(score_docs, dataset.qrels):.4f}\")\n",
    "    print(f\"MNDCG: {mndcg_score(score_docs, dataset.qrels):.4f}\")"
   ]
  },
  {
   "cell_type": "markdown",
   "metadata": {},
   "source": [
    "## Algorithms"
   ]
  },
  {
   "cell_type": "markdown",
   "metadata": {},
   "source": [
    "### Retrivers"
   ]
  },
  {
   "cell_type": "markdown",
   "metadata": {},
   "source": [
    "#### BM25"
   ]
  },
  {
   "cell_type": "code",
   "execution_count": null,
   "metadata": {},
   "outputs": [
    {
     "name": "stderr",
     "output_type": "stream",
     "text": [
      "[nltk_data] Downloading package punkt_tab to\n",
      "[nltk_data]     C:\\Users\\esdra\\AppData\\Roaming\\nltk_data...\n",
      "[nltk_data]   Package punkt_tab is already up-to-date!\n",
      "[nltk_data] Downloading package punkt to\n",
      "[nltk_data]     C:\\Users\\esdra\\AppData\\Roaming\\nltk_data...\n",
      "[nltk_data]   Package punkt is already up-to-date!\n",
      "Tokenizing documents: 100%|██████████| 277168/277168 [03:06<00:00, 1485.62doc/s]\n"
     ]
    },
    {
     "name": "stdout",
     "output_type": "stream",
     "text": [
      "True relevant documents for query 135841:\n"
     ]
    },
    {
     "data": {
      "text/plain": [
       "[('msmarco_passage_02_19009299', np.float64(25.129779619819196)),\n",
       " ('msmarco_passage_02_20739671', np.float64(24.998872014274685)),\n",
       " ('msmarco_passage_00_53431480', np.float64(22.077617845756684)),\n",
       " ('msmarco_passage_03_547575435', np.float64(21.896088861787916)),\n",
       " ('msmarco_passage_02_21092853', np.float64(21.72553747804953)),\n",
       " ('msmarco_passage_02_26827419', np.float64(21.72553747804953)),\n",
       " ('msmarco_passage_04_550536616', np.float64(21.274137190687796)),\n",
       " ('msmarco_passage_02_18968846', np.float64(21.180348316303736)),\n",
       " ('msmarco_passage_03_18532150', np.float64(20.789285569946582)),\n",
       " ('msmarco_passage_02_18753979', np.float64(19.193813304862065))]"
      ]
     },
     "execution_count": 3,
     "metadata": {},
     "output_type": "execute_result"
    }
   ],
   "source": [
    "from src.retrivers.bm25 import BM25\n",
    "\n",
    "bm25 = BM25(dataset)\n",
    "query_id = '135841'\n",
    "\n",
    "score_docs = bm25.run(dataset, query_id, 100)\n",
    "\n",
    "for doc_id in dataset.qrels[query_id]:\n",
    "    for i, (doc, score) in enumerate(score_docs):\n",
    "        if doc_id == doc:\n",
    "            print(f'{i+1}º: {doc}')\n",
    "            break\n",
    "score_docs[:10]"
   ]
  },
  {
   "cell_type": "code",
   "execution_count": 6,
   "metadata": {},
   "outputs": [
    {
     "name": "stderr",
     "output_type": "stream",
     "text": [
      "Evaluating BM25: 100%|██████████| 555/555 [15:27<00:00,  1.67s/it]"
     ]
    },
    {
     "name": "stdout",
     "output_type": "stream",
     "text": [
      "MRR: 0.2391\n",
      "MAP: 0.0377\n",
      "MR: 0.3640\n",
      "MF1: 0.0681\n",
      "MNDCG: 0.2617\n"
     ]
    },
    {
     "name": "stderr",
     "output_type": "stream",
     "text": [
      "\n"
     ]
    }
   ],
   "source": [
    "# Evaluating BM25 with MRR\n",
    "sorted_docs = {}\n",
    "for query_id in tqdm(dataset.test_query_ids, desc=\"Evaluating BM25\"):\n",
    "    docs = bm25.run(dataset, query_id, 10)\n",
    "    sorted_docs[query_id] = docs\n",
    "\n",
    "print_metrics(dataset, sorted_docs)"
   ]
  },
  {
   "cell_type": "markdown",
   "metadata": {},
   "source": [
    "### Rerankers"
   ]
  },
  {
   "cell_type": "markdown",
   "metadata": {},
   "source": [
    "#### MonoBERT"
   ]
  },
  {
   "cell_type": "code",
   "execution_count": 17,
   "metadata": {},
   "outputs": [
    {
     "name": "stderr",
     "output_type": "stream",
     "text": [
      "c:\\Users\\esdra\\AppData\\Local\\Programs\\Python\\Python312\\Lib\\site-packages\\tqdm\\auto.py:21: TqdmWarning: IProgress not found. Please update jupyter and ipywidgets. See https://ipywidgets.readthedocs.io/en/stable/user_install.html\n",
      "  from .autonotebook import tqdm as notebook_tqdm\n"
     ]
    }
   ],
   "source": [
    "from src.rankers.monobert import MonoBERT\n",
    "\n",
    "monobert = MonoBERT('castorini/monobert-large-msmarco')"
   ]
  },
  {
   "cell_type": "code",
   "execution_count": 21,
   "metadata": {},
   "outputs": [
    {
     "name": "stderr",
     "output_type": "stream",
     "text": [
      "Reranking with MonoBERT:  34%|███▍      | 189/555 [09:26<18:00,  2.95s/it]Be aware, overflowing tokens are not returned for the setting you have chosen, i.e. sequence pairs with the 'longest_first' truncation strategy. So the returned list will always be empty even if some tokens have been removed.\n",
      "Reranking with MonoBERT:  48%|████▊     | 267/555 [13:22<14:23,  3.00s/it]Be aware, overflowing tokens are not returned for the setting you have chosen, i.e. sequence pairs with the 'longest_first' truncation strategy. So the returned list will always be empty even if some tokens have been removed.\n",
      "Reranking with MonoBERT:  64%|██████▎   | 353/555 [17:45<10:05,  3.00s/it]Be aware, overflowing tokens are not returned for the setting you have chosen, i.e. sequence pairs with the 'longest_first' truncation strategy. So the returned list will always be empty even if some tokens have been removed.\n",
      "Reranking with MonoBERT:  83%|████████▎ | 458/555 [23:04<04:50,  3.00s/it]Be aware, overflowing tokens are not returned for the setting you have chosen, i.e. sequence pairs with the 'longest_first' truncation strategy. So the returned list will always be empty even if some tokens have been removed.\n",
      "Reranking with MonoBERT: 100%|██████████| 555/555 [27:55<00:00,  3.02s/it]"
     ]
    },
    {
     "name": "stdout",
     "output_type": "stream",
     "text": [
      "MRR: 0.7382\n",
      "MAP: 0.0863\n",
      "MR: 0.8279\n",
      "MF1: 0.1559\n",
      "MNDCG: 0.7460\n"
     ]
    },
    {
     "name": "stderr",
     "output_type": "stream",
     "text": [
      "\n"
     ]
    }
   ],
   "source": [
    "sorted_docs_monobert = {}\n",
    "for query_id, query_sorted_docs in tqdm(list(sorted_docs.items()), desc=\"Reranking with MonoBERT\"):\n",
    "    docs = monobert.run(dataset, query_id, query_sorted_docs)\n",
    "    sorted_docs_monobert[query_id] = docs\n",
    "\n",
    "print_metrics(dataset, sorted_docs_monobert)"
   ]
  }
 ],
 "metadata": {
  "kernelspec": {
   "display_name": "env",
   "language": "python",
   "name": "python3"
  },
  "language_info": {
   "codemirror_mode": {
    "name": "ipython",
    "version": 3
   },
   "file_extension": ".py",
   "mimetype": "text/x-python",
   "name": "python",
   "nbconvert_exporter": "python",
   "pygments_lexer": "ipython3",
   "version": "3.12.9"
  }
 },
 "nbformat": 4,
 "nbformat_minor": 2
}
