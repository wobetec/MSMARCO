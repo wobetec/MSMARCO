{
 "cells": [
  {
   "cell_type": "markdown",
   "metadata": {},
   "source": [
    "# MS MARCO"
   ]
  },
  {
   "cell_type": "code",
   "execution_count": 1,
   "metadata": {},
   "outputs": [],
   "source": [
    "# Commom imports\n",
    "from tqdm import tqdm"
   ]
  },
  {
   "cell_type": "markdown",
   "metadata": {},
   "source": [
    "## Dataset"
   ]
  },
  {
   "cell_type": "code",
   "execution_count": 2,
   "metadata": {},
   "outputs": [
    {
     "name": "stdout",
     "output_type": "stream",
     "text": [
      "Loading data from subset_msmarco_train_0.01_99.pkl...\n"
     ]
    },
    {
     "name": "stderr",
     "output_type": "stream",
     "text": [
      "Loading queries: 100%|██████████| 2771/2771 [00:00<00:00, 833985.10it/s]\n",
      "Loading documents: 100%|██████████| 277168/277168 [00:00<00:00, 290031.56it/s]\n",
      "Loading qrels: 100%|██████████| 2845/2845 [00:00<00:00, 3306399.25it/s]\n",
      "[nltk_data] Downloading package punkt_tab to\n",
      "[nltk_data]     C:\\Users\\esdra\\AppData\\Roaming\\nltk_data...\n",
      "[nltk_data]   Package punkt_tab is already up-to-date!\n",
      "[nltk_data] Downloading package punkt to\n",
      "[nltk_data]     C:\\Users\\esdra\\AppData\\Roaming\\nltk_data...\n",
      "[nltk_data]   Package punkt is already up-to-date!\n"
     ]
    },
    {
     "name": "stdout",
     "output_type": "stream",
     "text": [
      "Tokenizing data...\n"
     ]
    },
    {
     "name": "stderr",
     "output_type": "stream",
     "text": [
      "Tokenizing queries: 100%|██████████| 2771/2771 [00:00<00:00, 15134.54it/s]\n",
      "Tokenizing documents: 100%|██████████| 277168/277168 [01:50<00:00, 2506.52it/s]"
     ]
    },
    {
     "name": "stdout",
     "output_type": "stream",
     "text": [
      "Split data into train and test sets...\n",
      "Data loading and processing complete.\n"
     ]
    },
    {
     "name": "stderr",
     "output_type": "stream",
     "text": [
      "\n"
     ]
    }
   ],
   "source": [
    "# load data, tokenize and split\n",
    "from src.datasets import MSMarcoDataset\n",
    "\n",
    "dataset = MSMarcoDataset('data/subset_msmarco_train_0')\n",
    "dataset.get_data('subset_msmarco_train_0.01_99.pkl')"
   ]
  },
  {
   "cell_type": "markdown",
   "metadata": {},
   "source": [
    "## Metrics"
   ]
  },
  {
   "cell_type": "markdown",
   "metadata": {},
   "source": [
    "### BM25"
   ]
  },
  {
   "cell_type": "code",
   "execution_count": 3,
   "metadata": {},
   "outputs": [
    {
     "data": {
      "text/plain": [
       "[('msmarco_passage_02_20739671', 27.412804036648346),\n",
       " ('msmarco_passage_02_19009299', 24.213466338904247),\n",
       " ('msmarco_passage_02_18753979', 22.453242048560078),\n",
       " ('msmarco_passage_00_53431480', 21.618148811078974),\n",
       " ('msmarco_passage_03_547575435', 21.50421455547894),\n",
       " ('msmarco_passage_02_19817427', 20.711329688508723),\n",
       " ('msmarco_passage_02_21092853', 20.654825487373298),\n",
       " ('msmarco_passage_02_26827419', 20.654825487373298),\n",
       " ('msmarco_passage_03_18532150', 20.415866982320434),\n",
       " ('msmarco_passage_04_550536616', 20.20047378077205)]"
      ]
     },
     "execution_count": 3,
     "metadata": {},
     "output_type": "execute_result"
    }
   ],
   "source": [
    "from src.retrivers.bm25 import BM25\n",
    "\n",
    "bm25 = BM25(dataset.documents)\n",
    "\n",
    "docs = bm25.get_top_n(dataset.queries['135841'].tokenized_text, 10)\n",
    "docs"
   ]
  },
  {
   "cell_type": "markdown",
   "metadata": {},
   "source": [
    "## Baseline Models"
   ]
  },
  {
   "cell_type": "code",
   "execution_count": null,
   "metadata": {},
   "outputs": [
    {
     "name": "stdout",
     "output_type": "stream",
     "text": [
      "MRR: 0.0000\n",
      "NDCG: 0.0000\n"
     ]
    }
   ],
   "source": [
    "# Evaluating BM25 with MRR and NDCG\n",
    "from src.metrics import mmr_score, ndcg_score\n",
    "\n",
    "sorted_docs = {}\n",
    "for query_id in tqdm(dataset.test_query_ids, desc=\"Evaluating BM25\"):\n",
    "    # Get the top 10 documents for the query\n",
    "    docs = bm25.get_top_n(dataset.queries[query_id].tokenized_text, 100)\n",
    "    sorted_docs[query_id] = docs\n",
    "\n",
    "mrr = mmr_score(sorted_docs, dataset.qrels)\n",
    "ndcg = ndcg_score(sorted_docs, dataset.qrels)\n",
    "print(f\"MRR: {mrr:.4f}\")\n",
    "print(f\"NDCG: {ndcg:.4f}\")"
   ]
  }
 ],
 "metadata": {
  "kernelspec": {
   "display_name": "Python 3",
   "language": "python",
   "name": "python3"
  },
  "language_info": {
   "codemirror_mode": {
    "name": "ipython",
    "version": 3
   },
   "file_extension": ".py",
   "mimetype": "text/x-python",
   "name": "python",
   "nbconvert_exporter": "python",
   "pygments_lexer": "ipython3",
   "version": "3.12.9"
  }
 },
 "nbformat": 4,
 "nbformat_minor": 2
}
