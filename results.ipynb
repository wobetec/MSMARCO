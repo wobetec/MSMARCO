{
 "cells": [
  {
   "cell_type": "markdown",
   "metadata": {},
   "source": [
    "# Results"
   ]
  },
  {
   "cell_type": "code",
   "execution_count": 4,
   "metadata": {},
   "outputs": [],
   "source": [
    "import json\n",
    "import pandas as pd\n",
    "import os\n",
    "import numpy as np\n",
    "\n",
    "from src.metrics import (\n",
    "    mrr_score,\n",
    "    map_score,\n",
    "    mr_score,\n",
    "    mf1_score,\n",
    "    mndcg_score,\n",
    ")"
   ]
  },
  {
   "cell_type": "code",
   "execution_count": 5,
   "metadata": {},
   "outputs": [],
   "source": [
    "OUTPUT_DIR = 'results/raw'\n",
    "data_folder = 'data/subset_msmarco_train_0'\n",
    "input_file = 'subset_msmarco_train_0.01_99.pkl'"
   ]
  },
  {
   "cell_type": "markdown",
   "metadata": {},
   "source": [
    "## Loading results raw"
   ]
  },
  {
   "cell_type": "code",
   "execution_count": 6,
   "metadata": {},
   "outputs": [],
   "source": [
    "results = {}\n",
    "for file in os.listdir(OUTPUT_DIR):\n",
    "    if file.endswith('.json'):\n",
    "        with open(os.path.join(OUTPUT_DIR, file), 'r') as f:\n",
    "            data = json.load(f)\n",
    "        results[file[:-5]] = data\n",
    "    else:\n",
    "        print(f\"Skipping {file}, not a JSON file.\")"
   ]
  },
  {
   "cell_type": "markdown",
   "metadata": {},
   "source": [
    "## Loading dataset"
   ]
  },
  {
   "cell_type": "code",
   "execution_count": 7,
   "metadata": {},
   "outputs": [
    {
     "name": "stderr",
     "output_type": "stream",
     "text": [
      "Loading queries: 100%|██████████| 2771/2771 [00:00<?, ?it/s]\n",
      "Loading documents: 100%|██████████| 277168/277168 [00:00<00:00, 1393795.09it/s]\n",
      "Loading qrels: 100%|██████████| 2845/2845 [00:00<00:00, 342404.44it/s]\n"
     ]
    }
   ],
   "source": [
    "from src.datasets import MSMarcoDataset, PreProcessor\n",
    "\n",
    "dataset = MSMarcoDataset(data_folder)\n",
    "dataset.load_data(input_file)\n",
    "dataset.split_data()"
   ]
  },
  {
   "cell_type": "markdown",
   "metadata": {},
   "source": [
    "## Calculate metrics"
   ]
  },
  {
   "cell_type": "code",
   "execution_count": 8,
   "metadata": {},
   "outputs": [],
   "source": [
    "list_metrics = []\n",
    "for name, result in results.items():\n",
    "    for stage in result['stages'].keys():\n",
    "        list_metrics.append({\n",
    "            'experiment_name': name,\n",
    "            'stage_name': stage,\n",
    "            'mrr': mrr_score(result['score_docs'][stage], dataset.qrels),\n",
    "            'map': map_score(result['score_docs'][stage], dataset.qrels),\n",
    "            'mr': mr_score(result['score_docs'][stage], dataset.qrels),\n",
    "            'mf1': mf1_score(result['score_docs'][stage], dataset.qrels),\n",
    "            'mndcg': mndcg_score(result['score_docs'][stage], dataset.qrels),\n",
    "            'avg_time': np.mean(result['times'][stage]),\n",
    "            'max_time': np.max(result['times'][stage]),\n",
    "            'min_time': np.min(result['times'][stage]),\n",
    "            'std_time': np.std(result['times'][stage]),\n",
    "        })\n",
    "metrics = pd.DataFrame(list_metrics)"
   ]
  },
  {
   "cell_type": "code",
   "execution_count": 9,
   "metadata": {},
   "outputs": [],
   "source": [
    "default_style = {\n",
    "    'mrr': '{:.2f}',\n",
    "    'map': '{:.2f}',\n",
    "    'mr': '{:.2f}',\n",
    "    'mf1': '{:.2f}',\n",
    "    'mndcg': '{:.2f}',\n",
    "    'avg_time': '{:.2f}',\n",
    "    'max_time': '{:.2f}',\n",
    "    'min_time': '{:.2f}',\n",
    "    'std_time': '{:.2f}',\n",
    "}"
   ]
  },
  {
   "cell_type": "code",
   "execution_count": 10,
   "metadata": {},
   "outputs": [
    {
     "data": {
      "text/html": [
       "<style type=\"text/css\">\n",
       "</style>\n",
       "<table id=\"T_8097b\">\n",
       "  <thead>\n",
       "    <tr>\n",
       "      <th class=\"blank level0\" >&nbsp;</th>\n",
       "      <th id=\"T_8097b_level0_col0\" class=\"col_heading level0 col0\" >experiment_name</th>\n",
       "      <th id=\"T_8097b_level0_col1\" class=\"col_heading level0 col1\" >stage_name</th>\n",
       "      <th id=\"T_8097b_level0_col2\" class=\"col_heading level0 col2\" >mrr</th>\n",
       "      <th id=\"T_8097b_level0_col3\" class=\"col_heading level0 col3\" >map</th>\n",
       "      <th id=\"T_8097b_level0_col4\" class=\"col_heading level0 col4\" >mr</th>\n",
       "      <th id=\"T_8097b_level0_col5\" class=\"col_heading level0 col5\" >mf1</th>\n",
       "      <th id=\"T_8097b_level0_col6\" class=\"col_heading level0 col6\" >mndcg</th>\n",
       "      <th id=\"T_8097b_level0_col7\" class=\"col_heading level0 col7\" >avg_time</th>\n",
       "      <th id=\"T_8097b_level0_col8\" class=\"col_heading level0 col8\" >max_time</th>\n",
       "      <th id=\"T_8097b_level0_col9\" class=\"col_heading level0 col9\" >min_time</th>\n",
       "      <th id=\"T_8097b_level0_col10\" class=\"col_heading level0 col10\" >std_time</th>\n",
       "    </tr>\n",
       "  </thead>\n",
       "  <tbody>\n",
       "    <tr>\n",
       "      <th id=\"T_8097b_level0_row0\" class=\"row_heading level0 row0\" >0</th>\n",
       "      <td id=\"T_8097b_row0_col0\" class=\"data row0 col0\" >monobert</td>\n",
       "      <td id=\"T_8097b_row0_col1\" class=\"data row0 col1\" >BM25</td>\n",
       "      <td id=\"T_8097b_row0_col2\" class=\"data row0 col2\" >0.49</td>\n",
       "      <td id=\"T_8097b_row0_col3\" class=\"data row0 col3\" >0.07</td>\n",
       "      <td id=\"T_8097b_row0_col4\" class=\"data row0 col4\" >0.67</td>\n",
       "      <td id=\"T_8097b_row0_col5\" class=\"data row0 col5\" >0.13</td>\n",
       "      <td id=\"T_8097b_row0_col6\" class=\"data row0 col6\" >0.52</td>\n",
       "      <td id=\"T_8097b_row0_col7\" class=\"data row0 col7\" >1.03</td>\n",
       "      <td id=\"T_8097b_row0_col8\" class=\"data row0 col8\" >2.27</td>\n",
       "      <td id=\"T_8097b_row0_col9\" class=\"data row0 col9\" >0.41</td>\n",
       "      <td id=\"T_8097b_row0_col10\" class=\"data row0 col10\" >0.35</td>\n",
       "    </tr>\n",
       "    <tr>\n",
       "      <th id=\"T_8097b_level0_row1\" class=\"row_heading level0 row1\" >1</th>\n",
       "      <td id=\"T_8097b_row1_col0\" class=\"data row1 col0\" >monobert</td>\n",
       "      <td id=\"T_8097b_row1_col1\" class=\"data row1 col1\" >MonoBERT</td>\n",
       "      <td id=\"T_8097b_row1_col2\" class=\"data row1 col2\" >0.69</td>\n",
       "      <td id=\"T_8097b_row1_col3\" class=\"data row1 col3\" >0.09</td>\n",
       "      <td id=\"T_8097b_row1_col4\" class=\"data row1 col4\" >0.82</td>\n",
       "      <td id=\"T_8097b_row1_col5\" class=\"data row1 col5\" >0.15</td>\n",
       "      <td id=\"T_8097b_row1_col6\" class=\"data row1 col6\" >0.71</td>\n",
       "      <td id=\"T_8097b_row1_col7\" class=\"data row1 col7\" >9.73</td>\n",
       "      <td id=\"T_8097b_row1_col8\" class=\"data row1 col8\" >12.94</td>\n",
       "      <td id=\"T_8097b_row1_col9\" class=\"data row1 col9\" >8.85</td>\n",
       "      <td id=\"T_8097b_row1_col10\" class=\"data row1 col10\" >0.85</td>\n",
       "    </tr>\n",
       "  </tbody>\n",
       "</table>\n"
      ],
      "text/plain": [
       "<pandas.io.formats.style.Styler at 0x14fc29711c0>"
      ]
     },
     "execution_count": 10,
     "metadata": {},
     "output_type": "execute_result"
    }
   ],
   "source": [
    "metrics.sort_values(by=['mrr']).style.format(default_style)"
   ]
  }
 ],
 "metadata": {
  "kernelspec": {
   "display_name": "env",
   "language": "python",
   "name": "python3"
  },
  "language_info": {
   "codemirror_mode": {
    "name": "ipython",
    "version": 3
   },
   "file_extension": ".py",
   "mimetype": "text/x-python",
   "name": "python",
   "nbconvert_exporter": "python",
   "pygments_lexer": "ipython3",
   "version": "3.12.9"
  }
 },
 "nbformat": 4,
 "nbformat_minor": 2
}
