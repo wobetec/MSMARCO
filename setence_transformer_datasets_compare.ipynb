{
 "cells": [
  {
   "cell_type": "code",
   "execution_count": null,
   "metadata": {},
   "outputs": [],
   "source": [
    "class SentenceTransformer(Ranker):\n",
    "\n",
    "    def __init__(self, model_name: str = \"all-MiniLM-L6-v2\", device: torch.device = None, use_amp: bool = False):\n",
    "        self.device = get_device() if device is None else device\n",
    "        self.use_amp = use_amp\n",
    "\n",
    "        self.model = SentenceTransformer(model_name, device=self.device, trust_remote_code=True)\n",
    "\n",
    "    def run(self, dataset: MSMarcoDataset, query_id: str, score_docs: list[tuple[str, float]], k: int = 10, **kwargs) -> list[tuple[str, float]]:\n",
    "        query = dataset.queries[query_id]\n",
    "        documents = [dataset.documents[doc_id] for doc_id, _ in score_docs]\n",
    "\n",
    "        # Encode query and documents\n",
    "        embeddings = self.model.encode(\n",
    "            [query] + documents,\n",
    "            normalize_embeddings=self.normalize_embeddings,\n",
    "            convert_to_tensor=True,\n",
    "            show_progress_bar=False  # Disable tqdm progress bar\n",
    "        )\n",
    "        query_emb = embeddings[0]\n",
    "        document_embs = embeddings[1:]\n",
    "\n",
    "        # Compute cosine similarity scores\n",
    "        scores = torch.nn.functional.cosine_similarity(\n",
    "            query_emb.unsqueeze(0), document_embs\n",
    "        ).tolist()\n",
    "\n",
    "        new_score_docs = [(doc_id, score) for (doc_id, _), score in zip(score_docs, scores)]\n",
    "        new_score_docs = sorted(new_score_docs, key=lambda x: x[1], reverse=True)[:k]\n",
    "\n",
    "        return new_score_docs"
   ]
  }
 ],
 "metadata": {
  "language_info": {
   "name": "python"
  }
 },
 "nbformat": 4,
 "nbformat_minor": 2
}
