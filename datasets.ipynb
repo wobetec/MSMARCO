{
 "cells": [
  {
   "cell_type": "code",
   "execution_count": 1,
   "metadata": {},
   "outputs": [],
   "source": [
    "from src.datasets import MSMarcoDataset, PreProcessor\n",
    "from copy import deepcopy\n",
    "\n",
    "import pickle"
   ]
  },
  {
   "cell_type": "code",
   "execution_count": 2,
   "metadata": {},
   "outputs": [],
   "source": [
    "data_folder = 'data/subset_msmarco_train_0'\n",
    "input_file = 'subset_msmarco_train_0.01_99.pkl'\n",
    "\n",
    "index_folder = 'index'"
   ]
  },
  {
   "cell_type": "code",
   "execution_count": 3,
   "metadata": {},
   "outputs": [
    {
     "name": "stderr",
     "output_type": "stream",
     "text": [
      "Loading queries: 100%|██████████| 2771/2771 [00:00<00:00, 922194.43it/s]\n",
      "Loading documents: 100%|██████████| 277168/277168 [00:00<00:00, 674090.78it/s]\n",
      "Loading qrels: 100%|██████████| 2845/2845 [00:00<00:00, 567525.68it/s]\n"
     ]
    }
   ],
   "source": [
    "dataset = MSMarcoDataset(data_folder)\n",
    "dataset.load_data(input_file)\n",
    "dataset.split_data()\n",
    "\n",
    "with open('data/temp_data/dataset.pkl', 'wb') as f:\n",
    "    pickle.dump(dataset, f)"
   ]
  },
  {
   "cell_type": "code",
   "execution_count": null,
   "metadata": {},
   "outputs": [
    {
     "name": "stdout",
     "output_type": "stream",
     "text": [
      "Preprocessing dataset...\n"
     ]
    },
    {
     "name": "stderr",
     "output_type": "stream",
     "text": [
      "Preprocessing queries: 100%|██████████| 2771/2771 [00:00<00:00, 622918.66it/s]\n",
      "Preprocessing documents: 100%|██████████| 277168/277168 [00:00<00:00, 327724.19it/s]\n"
     ]
    }
   ],
   "source": [
    "preprocessor = PreProcessor([\n",
    "    PreProcessor.lowercase,\n",
    "])\n",
    "dataset_lower = deepcopy(dataset)\n",
    "preprocessor.preprocess(dataset_lower)\n",
    "\n",
    "with open('data/temp_data/dataset_lower.pkl', 'wb') as f:\n",
    "    pickle.dump(dataset_lower, f)"
   ]
  },
  {
   "cell_type": "code",
   "execution_count": null,
   "metadata": {},
   "outputs": [
    {
     "name": "stdout",
     "output_type": "stream",
     "text": [
      "Preprocessing dataset...\n"
     ]
    },
    {
     "name": "stderr",
     "output_type": "stream",
     "text": [
      "Preprocessing queries: 100%|██████████| 2771/2771 [00:00<00:00, 3488.17it/s]\n",
      "Preprocessing documents: 100%|██████████| 277168/277168 [04:50<00:00, 954.11it/s] \n"
     ]
    }
   ],
   "source": [
    "preprocessor = PreProcessor([\n",
    "    PreProcessor.lowercase,\n",
    "    PreProcessor.remove_punctuation,\n",
    "    PreProcessor.remove_stopwords,\n",
    "    PreProcessor.stem,\n",
    "])\n",
    "dataset_prepro = deepcopy(dataset)\n",
    "preprocessor.preprocess(dataset_prepro)\n",
    "\n",
    "with open('data/temp_data/dataset_prepro.pkl', 'wb') as f:\n",
    "    pickle.dump(dataset_prepro, f)"
   ]
  }
 ],
 "metadata": {
  "kernelspec": {
   "display_name": "env",
   "language": "python",
   "name": "python3"
  },
  "language_info": {
   "codemirror_mode": {
    "name": "ipython",
    "version": 3
   },
   "file_extension": ".py",
   "mimetype": "text/x-python",
   "name": "python",
   "nbconvert_exporter": "python",
   "pygments_lexer": "ipython3",
   "version": "3.12.9"
  }
 },
 "nbformat": 4,
 "nbformat_minor": 2
}
